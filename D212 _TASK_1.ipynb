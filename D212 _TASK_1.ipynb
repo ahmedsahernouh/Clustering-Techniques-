{
 "cells": [
  {
   "cell_type": "markdown",
   "metadata": {},
   "source": [
    "# D212 - OFM3 TASK 1: CLUSTERING TECHNIQUES"
   ]
  },
  {
   "cell_type": "markdown",
   "metadata": {},
   "source": [
    "<a href=\"https://wgu.hosted.panopto.com/Panopto/Pages/Viewer.aspx?id=1a9060c5-29cd-42f9-8532-ad4c009711aa\" target=\"_blank\"> Link to the Panopto Video </a>"
   ]
  },
  {
   "cell_type": "markdown",
   "metadata": {},
   "source": [
    "https://wgu.hosted.panopto.com/Panopto/Pages/Viewer.aspx?id=1a9060c5-29cd-42f9-8532-ad4c009711aa"
   ]
  },
  {
   "cell_type": "markdown",
   "metadata": {},
   "source": [
    "###### --------------------------------------------------------------------------------------------------------------------------------------------------------------------------------------------------------"
   ]
  },
  {
   "cell_type": "markdown",
   "metadata": {},
   "source": [
    "### Exploring the Data"
   ]
  },
  {
   "cell_type": "markdown",
   "metadata": {},
   "source": [
    "#### Importing Libraries:"
   ]
  },
  {
   "cell_type": "code",
   "execution_count": 1,
   "metadata": {},
   "outputs": [],
   "source": [
    "#importing the needed libraries.\n",
    "import pandas as pd\n",
    "pd.set_option('display.max_rows', None)\n",
    "pd.set_option('display.max_columns', None) #modified Pandas options to fully display the large dataset when needed\n",
    "## !!! Trying to Display a full Dataframe may cause a problem.\n",
    "import numpy as np\n",
    "np.set_printoptions(precision=5, suppress=True)\n",
    "import matplotlib.pyplot as plt\n",
    "import seaborn as sns\n",
    "\n",
    "import sklearn\n",
    "from sklearn.cluster import KMeans\n",
    "from sklearn.preprocessing import StandardScaler"
   ]
  },
  {
   "cell_type": "code",
   "execution_count": 2,
   "metadata": {},
   "outputs": [
    {
     "data": {
      "text/html": [
       "<div>\n",
       "<style scoped>\n",
       "    .dataframe tbody tr th:only-of-type {\n",
       "        vertical-align: middle;\n",
       "    }\n",
       "\n",
       "    .dataframe tbody tr th {\n",
       "        vertical-align: top;\n",
       "    }\n",
       "\n",
       "    .dataframe thead th {\n",
       "        text-align: right;\n",
       "    }\n",
       "</style>\n",
       "<table border=\"1\" class=\"dataframe\">\n",
       "  <thead>\n",
       "    <tr style=\"text-align: right;\">\n",
       "      <th></th>\n",
       "      <th>CaseOrder</th>\n",
       "      <th>Customer_id</th>\n",
       "      <th>Interaction</th>\n",
       "      <th>UID</th>\n",
       "      <th>City</th>\n",
       "      <th>State</th>\n",
       "      <th>County</th>\n",
       "      <th>Zip</th>\n",
       "      <th>Lat</th>\n",
       "      <th>Lng</th>\n",
       "      <th>Population</th>\n",
       "      <th>Area</th>\n",
       "      <th>TimeZone</th>\n",
       "      <th>Job</th>\n",
       "      <th>Children</th>\n",
       "      <th>Age</th>\n",
       "      <th>Income</th>\n",
       "      <th>Marital</th>\n",
       "      <th>Gender</th>\n",
       "      <th>Churn</th>\n",
       "      <th>Outage_sec_perweek</th>\n",
       "      <th>Email</th>\n",
       "      <th>Contacts</th>\n",
       "      <th>Yearly_equip_failure</th>\n",
       "      <th>Techie</th>\n",
       "      <th>Contract</th>\n",
       "      <th>Port_modem</th>\n",
       "      <th>Tablet</th>\n",
       "      <th>InternetService</th>\n",
       "      <th>Phone</th>\n",
       "      <th>Multiple</th>\n",
       "      <th>OnlineSecurity</th>\n",
       "      <th>OnlineBackup</th>\n",
       "      <th>DeviceProtection</th>\n",
       "      <th>TechSupport</th>\n",
       "      <th>StreamingTV</th>\n",
       "      <th>StreamingMovies</th>\n",
       "      <th>PaperlessBilling</th>\n",
       "      <th>PaymentMethod</th>\n",
       "      <th>Tenure</th>\n",
       "      <th>MonthlyCharge</th>\n",
       "      <th>Bandwidth_GB_Year</th>\n",
       "      <th>Item1</th>\n",
       "      <th>Item2</th>\n",
       "      <th>Item3</th>\n",
       "      <th>Item4</th>\n",
       "      <th>Item5</th>\n",
       "      <th>Item6</th>\n",
       "      <th>Item7</th>\n",
       "      <th>Item8</th>\n",
       "    </tr>\n",
       "  </thead>\n",
       "  <tbody>\n",
       "    <tr>\n",
       "      <th>0</th>\n",
       "      <td>1</td>\n",
       "      <td>K409198</td>\n",
       "      <td>aa90260b-4141-4a24-8e36-b04ce1f4f77b</td>\n",
       "      <td>e885b299883d4f9fb18e39c75155d990</td>\n",
       "      <td>Point Baker</td>\n",
       "      <td>AK</td>\n",
       "      <td>Prince of Wales-Hyder</td>\n",
       "      <td>99927</td>\n",
       "      <td>56.25100</td>\n",
       "      <td>-133.37571</td>\n",
       "      <td>38</td>\n",
       "      <td>Urban</td>\n",
       "      <td>America/Sitka</td>\n",
       "      <td>Environmental health practitioner</td>\n",
       "      <td>0</td>\n",
       "      <td>68</td>\n",
       "      <td>28561.99</td>\n",
       "      <td>Widowed</td>\n",
       "      <td>Male</td>\n",
       "      <td>No</td>\n",
       "      <td>7.978323</td>\n",
       "      <td>10</td>\n",
       "      <td>0</td>\n",
       "      <td>1</td>\n",
       "      <td>No</td>\n",
       "      <td>One year</td>\n",
       "      <td>Yes</td>\n",
       "      <td>Yes</td>\n",
       "      <td>Fiber Optic</td>\n",
       "      <td>Yes</td>\n",
       "      <td>No</td>\n",
       "      <td>Yes</td>\n",
       "      <td>Yes</td>\n",
       "      <td>No</td>\n",
       "      <td>No</td>\n",
       "      <td>No</td>\n",
       "      <td>Yes</td>\n",
       "      <td>Yes</td>\n",
       "      <td>Credit Card (automatic)</td>\n",
       "      <td>6.795513</td>\n",
       "      <td>172.455519</td>\n",
       "      <td>904.536110</td>\n",
       "      <td>5</td>\n",
       "      <td>5</td>\n",
       "      <td>5</td>\n",
       "      <td>3</td>\n",
       "      <td>4</td>\n",
       "      <td>4</td>\n",
       "      <td>3</td>\n",
       "      <td>4</td>\n",
       "    </tr>\n",
       "    <tr>\n",
       "      <th>1</th>\n",
       "      <td>2</td>\n",
       "      <td>S120509</td>\n",
       "      <td>fb76459f-c047-4a9d-8af9-e0f7d4ac2524</td>\n",
       "      <td>f2de8bef964785f41a2959829830fb8a</td>\n",
       "      <td>West Branch</td>\n",
       "      <td>MI</td>\n",
       "      <td>Ogemaw</td>\n",
       "      <td>48661</td>\n",
       "      <td>44.32893</td>\n",
       "      <td>-84.24080</td>\n",
       "      <td>10446</td>\n",
       "      <td>Urban</td>\n",
       "      <td>America/Detroit</td>\n",
       "      <td>Programmer, multimedia</td>\n",
       "      <td>1</td>\n",
       "      <td>27</td>\n",
       "      <td>21704.77</td>\n",
       "      <td>Married</td>\n",
       "      <td>Female</td>\n",
       "      <td>Yes</td>\n",
       "      <td>11.699080</td>\n",
       "      <td>12</td>\n",
       "      <td>0</td>\n",
       "      <td>1</td>\n",
       "      <td>Yes</td>\n",
       "      <td>Month-to-month</td>\n",
       "      <td>No</td>\n",
       "      <td>Yes</td>\n",
       "      <td>Fiber Optic</td>\n",
       "      <td>Yes</td>\n",
       "      <td>Yes</td>\n",
       "      <td>Yes</td>\n",
       "      <td>No</td>\n",
       "      <td>No</td>\n",
       "      <td>No</td>\n",
       "      <td>Yes</td>\n",
       "      <td>Yes</td>\n",
       "      <td>Yes</td>\n",
       "      <td>Bank Transfer(automatic)</td>\n",
       "      <td>1.156681</td>\n",
       "      <td>242.632554</td>\n",
       "      <td>800.982766</td>\n",
       "      <td>3</td>\n",
       "      <td>4</td>\n",
       "      <td>3</td>\n",
       "      <td>3</td>\n",
       "      <td>4</td>\n",
       "      <td>3</td>\n",
       "      <td>4</td>\n",
       "      <td>4</td>\n",
       "    </tr>\n",
       "    <tr>\n",
       "      <th>2</th>\n",
       "      <td>3</td>\n",
       "      <td>K191035</td>\n",
       "      <td>344d114c-3736-4be5-98f7-c72c281e2d35</td>\n",
       "      <td>f1784cfa9f6d92ae816197eb175d3c71</td>\n",
       "      <td>Yamhill</td>\n",
       "      <td>OR</td>\n",
       "      <td>Yamhill</td>\n",
       "      <td>97148</td>\n",
       "      <td>45.35589</td>\n",
       "      <td>-123.24657</td>\n",
       "      <td>3735</td>\n",
       "      <td>Urban</td>\n",
       "      <td>America/Los_Angeles</td>\n",
       "      <td>Chief Financial Officer</td>\n",
       "      <td>4</td>\n",
       "      <td>50</td>\n",
       "      <td>9609.57</td>\n",
       "      <td>Widowed</td>\n",
       "      <td>Female</td>\n",
       "      <td>No</td>\n",
       "      <td>10.752800</td>\n",
       "      <td>9</td>\n",
       "      <td>0</td>\n",
       "      <td>1</td>\n",
       "      <td>Yes</td>\n",
       "      <td>Two Year</td>\n",
       "      <td>Yes</td>\n",
       "      <td>No</td>\n",
       "      <td>DSL</td>\n",
       "      <td>Yes</td>\n",
       "      <td>Yes</td>\n",
       "      <td>No</td>\n",
       "      <td>No</td>\n",
       "      <td>No</td>\n",
       "      <td>No</td>\n",
       "      <td>No</td>\n",
       "      <td>Yes</td>\n",
       "      <td>Yes</td>\n",
       "      <td>Credit Card (automatic)</td>\n",
       "      <td>15.754144</td>\n",
       "      <td>159.947583</td>\n",
       "      <td>2054.706961</td>\n",
       "      <td>4</td>\n",
       "      <td>4</td>\n",
       "      <td>2</td>\n",
       "      <td>4</td>\n",
       "      <td>4</td>\n",
       "      <td>3</td>\n",
       "      <td>3</td>\n",
       "      <td>3</td>\n",
       "    </tr>\n",
       "    <tr>\n",
       "      <th>3</th>\n",
       "      <td>4</td>\n",
       "      <td>D90850</td>\n",
       "      <td>abfa2b40-2d43-4994-b15a-989b8c79e311</td>\n",
       "      <td>dc8a365077241bb5cd5ccd305136b05e</td>\n",
       "      <td>Del Mar</td>\n",
       "      <td>CA</td>\n",
       "      <td>San Diego</td>\n",
       "      <td>92014</td>\n",
       "      <td>32.96687</td>\n",
       "      <td>-117.24798</td>\n",
       "      <td>13863</td>\n",
       "      <td>Suburban</td>\n",
       "      <td>America/Los_Angeles</td>\n",
       "      <td>Solicitor</td>\n",
       "      <td>1</td>\n",
       "      <td>48</td>\n",
       "      <td>18925.23</td>\n",
       "      <td>Married</td>\n",
       "      <td>Male</td>\n",
       "      <td>No</td>\n",
       "      <td>14.913540</td>\n",
       "      <td>15</td>\n",
       "      <td>2</td>\n",
       "      <td>0</td>\n",
       "      <td>Yes</td>\n",
       "      <td>Two Year</td>\n",
       "      <td>No</td>\n",
       "      <td>No</td>\n",
       "      <td>DSL</td>\n",
       "      <td>Yes</td>\n",
       "      <td>No</td>\n",
       "      <td>Yes</td>\n",
       "      <td>No</td>\n",
       "      <td>No</td>\n",
       "      <td>No</td>\n",
       "      <td>Yes</td>\n",
       "      <td>No</td>\n",
       "      <td>Yes</td>\n",
       "      <td>Mailed Check</td>\n",
       "      <td>17.087227</td>\n",
       "      <td>119.956840</td>\n",
       "      <td>2164.579412</td>\n",
       "      <td>4</td>\n",
       "      <td>4</td>\n",
       "      <td>4</td>\n",
       "      <td>2</td>\n",
       "      <td>5</td>\n",
       "      <td>4</td>\n",
       "      <td>3</td>\n",
       "      <td>3</td>\n",
       "    </tr>\n",
       "    <tr>\n",
       "      <th>4</th>\n",
       "      <td>5</td>\n",
       "      <td>K662701</td>\n",
       "      <td>68a861fd-0d20-4e51-a587-8a90407ee574</td>\n",
       "      <td>aabb64a116e83fdc4befc1fbab1663f9</td>\n",
       "      <td>Needville</td>\n",
       "      <td>TX</td>\n",
       "      <td>Fort Bend</td>\n",
       "      <td>77461</td>\n",
       "      <td>29.38012</td>\n",
       "      <td>-95.80673</td>\n",
       "      <td>11352</td>\n",
       "      <td>Suburban</td>\n",
       "      <td>America/Chicago</td>\n",
       "      <td>Medical illustrator</td>\n",
       "      <td>0</td>\n",
       "      <td>83</td>\n",
       "      <td>40074.19</td>\n",
       "      <td>Separated</td>\n",
       "      <td>Male</td>\n",
       "      <td>Yes</td>\n",
       "      <td>8.147417</td>\n",
       "      <td>16</td>\n",
       "      <td>2</td>\n",
       "      <td>1</td>\n",
       "      <td>No</td>\n",
       "      <td>Month-to-month</td>\n",
       "      <td>Yes</td>\n",
       "      <td>No</td>\n",
       "      <td>Fiber Optic</td>\n",
       "      <td>No</td>\n",
       "      <td>No</td>\n",
       "      <td>No</td>\n",
       "      <td>No</td>\n",
       "      <td>No</td>\n",
       "      <td>Yes</td>\n",
       "      <td>Yes</td>\n",
       "      <td>No</td>\n",
       "      <td>No</td>\n",
       "      <td>Mailed Check</td>\n",
       "      <td>1.670972</td>\n",
       "      <td>149.948316</td>\n",
       "      <td>271.493436</td>\n",
       "      <td>4</td>\n",
       "      <td>4</td>\n",
       "      <td>4</td>\n",
       "      <td>3</td>\n",
       "      <td>4</td>\n",
       "      <td>4</td>\n",
       "      <td>4</td>\n",
       "      <td>5</td>\n",
       "    </tr>\n",
       "  </tbody>\n",
       "</table>\n",
       "</div>"
      ],
      "text/plain": [
       "   CaseOrder Customer_id                           Interaction  \\\n",
       "0          1     K409198  aa90260b-4141-4a24-8e36-b04ce1f4f77b   \n",
       "1          2     S120509  fb76459f-c047-4a9d-8af9-e0f7d4ac2524   \n",
       "2          3     K191035  344d114c-3736-4be5-98f7-c72c281e2d35   \n",
       "3          4      D90850  abfa2b40-2d43-4994-b15a-989b8c79e311   \n",
       "4          5     K662701  68a861fd-0d20-4e51-a587-8a90407ee574   \n",
       "\n",
       "                                UID         City State                 County  \\\n",
       "0  e885b299883d4f9fb18e39c75155d990  Point Baker    AK  Prince of Wales-Hyder   \n",
       "1  f2de8bef964785f41a2959829830fb8a  West Branch    MI                 Ogemaw   \n",
       "2  f1784cfa9f6d92ae816197eb175d3c71      Yamhill    OR                Yamhill   \n",
       "3  dc8a365077241bb5cd5ccd305136b05e      Del Mar    CA              San Diego   \n",
       "4  aabb64a116e83fdc4befc1fbab1663f9    Needville    TX              Fort Bend   \n",
       "\n",
       "     Zip       Lat        Lng  Population      Area             TimeZone  \\\n",
       "0  99927  56.25100 -133.37571          38     Urban        America/Sitka   \n",
       "1  48661  44.32893  -84.24080       10446     Urban      America/Detroit   \n",
       "2  97148  45.35589 -123.24657        3735     Urban  America/Los_Angeles   \n",
       "3  92014  32.96687 -117.24798       13863  Suburban  America/Los_Angeles   \n",
       "4  77461  29.38012  -95.80673       11352  Suburban      America/Chicago   \n",
       "\n",
       "                                 Job  Children  Age    Income    Marital  \\\n",
       "0  Environmental health practitioner         0   68  28561.99    Widowed   \n",
       "1             Programmer, multimedia         1   27  21704.77    Married   \n",
       "2            Chief Financial Officer         4   50   9609.57    Widowed   \n",
       "3                          Solicitor         1   48  18925.23    Married   \n",
       "4                Medical illustrator         0   83  40074.19  Separated   \n",
       "\n",
       "   Gender Churn  Outage_sec_perweek  Email  Contacts  Yearly_equip_failure  \\\n",
       "0    Male    No            7.978323     10         0                     1   \n",
       "1  Female   Yes           11.699080     12         0                     1   \n",
       "2  Female    No           10.752800      9         0                     1   \n",
       "3    Male    No           14.913540     15         2                     0   \n",
       "4    Male   Yes            8.147417     16         2                     1   \n",
       "\n",
       "  Techie        Contract Port_modem Tablet InternetService Phone Multiple  \\\n",
       "0     No        One year        Yes    Yes     Fiber Optic   Yes       No   \n",
       "1    Yes  Month-to-month         No    Yes     Fiber Optic   Yes      Yes   \n",
       "2    Yes        Two Year        Yes     No             DSL   Yes      Yes   \n",
       "3    Yes        Two Year         No     No             DSL   Yes       No   \n",
       "4     No  Month-to-month        Yes     No     Fiber Optic    No       No   \n",
       "\n",
       "  OnlineSecurity OnlineBackup DeviceProtection TechSupport StreamingTV  \\\n",
       "0            Yes          Yes               No          No          No   \n",
       "1            Yes           No               No          No         Yes   \n",
       "2             No           No               No          No          No   \n",
       "3            Yes           No               No          No         Yes   \n",
       "4             No           No               No         Yes         Yes   \n",
       "\n",
       "  StreamingMovies PaperlessBilling             PaymentMethod     Tenure  \\\n",
       "0             Yes              Yes   Credit Card (automatic)   6.795513   \n",
       "1             Yes              Yes  Bank Transfer(automatic)   1.156681   \n",
       "2             Yes              Yes   Credit Card (automatic)  15.754144   \n",
       "3              No              Yes              Mailed Check  17.087227   \n",
       "4              No               No              Mailed Check   1.670972   \n",
       "\n",
       "   MonthlyCharge  Bandwidth_GB_Year  Item1  Item2  Item3  Item4  Item5  Item6  \\\n",
       "0     172.455519         904.536110      5      5      5      3      4      4   \n",
       "1     242.632554         800.982766      3      4      3      3      4      3   \n",
       "2     159.947583        2054.706961      4      4      2      4      4      3   \n",
       "3     119.956840        2164.579412      4      4      4      2      5      4   \n",
       "4     149.948316         271.493436      4      4      4      3      4      4   \n",
       "\n",
       "   Item7  Item8  \n",
       "0      3      4  \n",
       "1      4      4  \n",
       "2      3      3  \n",
       "3      3      3  \n",
       "4      4      5  "
      ]
     },
     "execution_count": 2,
     "metadata": {},
     "output_type": "execute_result"
    }
   ],
   "source": [
    "#Reading the Data file (As received) churn_clean.csv \n",
    "df_raw= pd.read_csv('churn_clean.csv')\n",
    "target='Churn'\n",
    "df_raw.head()"
   ]
  },
  {
   "cell_type": "markdown",
   "metadata": {},
   "source": [
    "#### Data info:"
   ]
  },
  {
   "cell_type": "code",
   "execution_count": 3,
   "metadata": {},
   "outputs": [
    {
     "name": "stdout",
     "output_type": "stream",
     "text": [
      "<class 'pandas.core.frame.DataFrame'>\n",
      "RangeIndex: 10000 entries, 0 to 9999\n",
      "Data columns (total 50 columns):\n",
      " #   Column                Non-Null Count  Dtype  \n",
      "---  ------                --------------  -----  \n",
      " 0   CaseOrder             10000 non-null  int64  \n",
      " 1   Customer_id           10000 non-null  object \n",
      " 2   Interaction           10000 non-null  object \n",
      " 3   UID                   10000 non-null  object \n",
      " 4   City                  10000 non-null  object \n",
      " 5   State                 10000 non-null  object \n",
      " 6   County                10000 non-null  object \n",
      " 7   Zip                   10000 non-null  int64  \n",
      " 8   Lat                   10000 non-null  float64\n",
      " 9   Lng                   10000 non-null  float64\n",
      " 10  Population            10000 non-null  int64  \n",
      " 11  Area                  10000 non-null  object \n",
      " 12  TimeZone              10000 non-null  object \n",
      " 13  Job                   10000 non-null  object \n",
      " 14  Children              10000 non-null  int64  \n",
      " 15  Age                   10000 non-null  int64  \n",
      " 16  Income                10000 non-null  float64\n",
      " 17  Marital               10000 non-null  object \n",
      " 18  Gender                10000 non-null  object \n",
      " 19  Churn                 10000 non-null  object \n",
      " 20  Outage_sec_perweek    10000 non-null  float64\n",
      " 21  Email                 10000 non-null  int64  \n",
      " 22  Contacts              10000 non-null  int64  \n",
      " 23  Yearly_equip_failure  10000 non-null  int64  \n",
      " 24  Techie                10000 non-null  object \n",
      " 25  Contract              10000 non-null  object \n",
      " 26  Port_modem            10000 non-null  object \n",
      " 27  Tablet                10000 non-null  object \n",
      " 28  InternetService       10000 non-null  object \n",
      " 29  Phone                 10000 non-null  object \n",
      " 30  Multiple              10000 non-null  object \n",
      " 31  OnlineSecurity        10000 non-null  object \n",
      " 32  OnlineBackup          10000 non-null  object \n",
      " 33  DeviceProtection      10000 non-null  object \n",
      " 34  TechSupport           10000 non-null  object \n",
      " 35  StreamingTV           10000 non-null  object \n",
      " 36  StreamingMovies       10000 non-null  object \n",
      " 37  PaperlessBilling      10000 non-null  object \n",
      " 38  PaymentMethod         10000 non-null  object \n",
      " 39  Tenure                10000 non-null  float64\n",
      " 40  MonthlyCharge         10000 non-null  float64\n",
      " 41  Bandwidth_GB_Year     10000 non-null  float64\n",
      " 42  Item1                 10000 non-null  int64  \n",
      " 43  Item2                 10000 non-null  int64  \n",
      " 44  Item3                 10000 non-null  int64  \n",
      " 45  Item4                 10000 non-null  int64  \n",
      " 46  Item5                 10000 non-null  int64  \n",
      " 47  Item6                 10000 non-null  int64  \n",
      " 48  Item7                 10000 non-null  int64  \n",
      " 49  Item8                 10000 non-null  int64  \n",
      "dtypes: float64(7), int64(16), object(27)\n",
      "memory usage: 3.8+ MB\n"
     ]
    }
   ],
   "source": [
    "df_raw.info() #Data Information of the Raw DataFrame (As received)"
   ]
  },
  {
   "cell_type": "code",
   "execution_count": 4,
   "metadata": {},
   "outputs": [
    {
     "name": "stdout",
     "output_type": "stream",
     "text": [
      "raw_variables: 50   num_variables: 23   cat_variables: 27\n"
     ]
    }
   ],
   "source": [
    "raw_variables=['CaseOrder', 'Customer_id', 'Interaction', 'UID', 'City', 'State',\n",
    "               'County', 'Zip', 'Lat', 'Lng', 'Population', 'Area', 'TimeZone', 'Job',\n",
    "               'Children', 'Age', 'Income', 'Marital', 'Gender', 'Churn',\n",
    "               'Outage_sec_perweek', 'Email', 'Contacts', 'Yearly_equip_failure',\n",
    "               'Techie', 'Contract', 'Port_modem', 'Tablet', 'InternetService',\n",
    "               'Phone', 'Multiple', 'OnlineSecurity', 'OnlineBackup',\n",
    "               'DeviceProtection', 'TechSupport', 'StreamingTV', 'StreamingMovies',\n",
    "               'PaperlessBilling', 'PaymentMethod', 'Tenure', 'MonthlyCharge',\n",
    "               'Bandwidth_GB_Year', 'Item1', 'Item2', 'Item3', 'Item4', 'Item5',\n",
    "               'Item6', 'Item7', 'Item8']\n",
    "\n",
    "num_variables = ['CaseOrder', 'Zip', 'Lat', 'Lng', 'Population', 'Children',\n",
    "                 'Age','Income', 'Outage_sec_perweek', 'Email', 'Contacts',\n",
    "                 'Yearly_equip_failure', 'Tenure', 'MonthlyCharge', 'Bandwidth_GB_Year',\n",
    "                 'Item1', 'Item2', 'Item3', 'Item4', 'Item5', 'Item6', 'Item7', 'Item8']\n",
    "\n",
    "categ_variables = ['Customer_id', 'Interaction', 'UID', 'City', 'State', 'County', 'Area',\n",
    "                   'TimeZone', 'Job', 'Marital', 'Gender', 'Churn', 'Techie', 'Contract',\n",
    "                   'Port_modem', 'Tablet', 'InternetService', 'Phone', 'Multiple',\n",
    "                   'OnlineSecurity', 'OnlineBackup', 'DeviceProtection', 'TechSupport',\n",
    "                   'StreamingTV', 'StreamingMovies', 'PaperlessBilling', 'PaymentMethod']\n",
    "\n",
    "print('raw_variables:',len(raw_variables),'  num_variables:',len(num_variables),'  cat_variables:',len(categ_variables))"
   ]
  },
  {
   "cell_type": "markdown",
   "metadata": {},
   "source": [
    "#### Summary statistics:"
   ]
  },
  {
   "cell_type": "code",
   "execution_count": 5,
   "metadata": {},
   "outputs": [
    {
     "data": {
      "text/html": [
       "<div>\n",
       "<style scoped>\n",
       "    .dataframe tbody tr th:only-of-type {\n",
       "        vertical-align: middle;\n",
       "    }\n",
       "\n",
       "    .dataframe tbody tr th {\n",
       "        vertical-align: top;\n",
       "    }\n",
       "\n",
       "    .dataframe thead th {\n",
       "        text-align: right;\n",
       "    }\n",
       "</style>\n",
       "<table border=\"1\" class=\"dataframe\">\n",
       "  <thead>\n",
       "    <tr style=\"text-align: right;\">\n",
       "      <th></th>\n",
       "      <th>count</th>\n",
       "      <th>mean</th>\n",
       "      <th>std</th>\n",
       "      <th>min</th>\n",
       "      <th>25%</th>\n",
       "      <th>50%</th>\n",
       "      <th>75%</th>\n",
       "      <th>max</th>\n",
       "    </tr>\n",
       "  </thead>\n",
       "  <tbody>\n",
       "    <tr>\n",
       "      <th>CaseOrder</th>\n",
       "      <td>10000.0</td>\n",
       "      <td>5000.500000</td>\n",
       "      <td>2886.895680</td>\n",
       "      <td>1.000000</td>\n",
       "      <td>2500.750000</td>\n",
       "      <td>5000.500000</td>\n",
       "      <td>7500.250000</td>\n",
       "      <td>10000.000000</td>\n",
       "    </tr>\n",
       "    <tr>\n",
       "      <th>Zip</th>\n",
       "      <td>10000.0</td>\n",
       "      <td>49153.319600</td>\n",
       "      <td>27532.196108</td>\n",
       "      <td>601.000000</td>\n",
       "      <td>26292.500000</td>\n",
       "      <td>48869.500000</td>\n",
       "      <td>71866.500000</td>\n",
       "      <td>99929.000000</td>\n",
       "    </tr>\n",
       "    <tr>\n",
       "      <th>Lat</th>\n",
       "      <td>10000.0</td>\n",
       "      <td>38.757567</td>\n",
       "      <td>5.437389</td>\n",
       "      <td>17.966120</td>\n",
       "      <td>35.341828</td>\n",
       "      <td>39.395800</td>\n",
       "      <td>42.106908</td>\n",
       "      <td>70.640660</td>\n",
       "    </tr>\n",
       "    <tr>\n",
       "      <th>Lng</th>\n",
       "      <td>10000.0</td>\n",
       "      <td>-90.782536</td>\n",
       "      <td>15.156142</td>\n",
       "      <td>-171.688150</td>\n",
       "      <td>-97.082813</td>\n",
       "      <td>-87.918800</td>\n",
       "      <td>-80.088745</td>\n",
       "      <td>-65.667850</td>\n",
       "    </tr>\n",
       "    <tr>\n",
       "      <th>Population</th>\n",
       "      <td>10000.0</td>\n",
       "      <td>9756.562400</td>\n",
       "      <td>14432.698671</td>\n",
       "      <td>0.000000</td>\n",
       "      <td>738.000000</td>\n",
       "      <td>2910.500000</td>\n",
       "      <td>13168.000000</td>\n",
       "      <td>111850.000000</td>\n",
       "    </tr>\n",
       "    <tr>\n",
       "      <th>Children</th>\n",
       "      <td>10000.0</td>\n",
       "      <td>2.087700</td>\n",
       "      <td>2.147200</td>\n",
       "      <td>0.000000</td>\n",
       "      <td>0.000000</td>\n",
       "      <td>1.000000</td>\n",
       "      <td>3.000000</td>\n",
       "      <td>10.000000</td>\n",
       "    </tr>\n",
       "    <tr>\n",
       "      <th>Age</th>\n",
       "      <td>10000.0</td>\n",
       "      <td>53.078400</td>\n",
       "      <td>20.698882</td>\n",
       "      <td>18.000000</td>\n",
       "      <td>35.000000</td>\n",
       "      <td>53.000000</td>\n",
       "      <td>71.000000</td>\n",
       "      <td>89.000000</td>\n",
       "    </tr>\n",
       "    <tr>\n",
       "      <th>Income</th>\n",
       "      <td>10000.0</td>\n",
       "      <td>39806.926771</td>\n",
       "      <td>28199.916702</td>\n",
       "      <td>348.670000</td>\n",
       "      <td>19224.717500</td>\n",
       "      <td>33170.605000</td>\n",
       "      <td>53246.170000</td>\n",
       "      <td>258900.700000</td>\n",
       "    </tr>\n",
       "    <tr>\n",
       "      <th>Outage_sec_perweek</th>\n",
       "      <td>10000.0</td>\n",
       "      <td>10.001848</td>\n",
       "      <td>2.976019</td>\n",
       "      <td>0.099747</td>\n",
       "      <td>8.018214</td>\n",
       "      <td>10.018560</td>\n",
       "      <td>11.969485</td>\n",
       "      <td>21.207230</td>\n",
       "    </tr>\n",
       "    <tr>\n",
       "      <th>Email</th>\n",
       "      <td>10000.0</td>\n",
       "      <td>12.016000</td>\n",
       "      <td>3.025898</td>\n",
       "      <td>1.000000</td>\n",
       "      <td>10.000000</td>\n",
       "      <td>12.000000</td>\n",
       "      <td>14.000000</td>\n",
       "      <td>23.000000</td>\n",
       "    </tr>\n",
       "    <tr>\n",
       "      <th>Contacts</th>\n",
       "      <td>10000.0</td>\n",
       "      <td>0.994200</td>\n",
       "      <td>0.988466</td>\n",
       "      <td>0.000000</td>\n",
       "      <td>0.000000</td>\n",
       "      <td>1.000000</td>\n",
       "      <td>2.000000</td>\n",
       "      <td>7.000000</td>\n",
       "    </tr>\n",
       "    <tr>\n",
       "      <th>Yearly_equip_failure</th>\n",
       "      <td>10000.0</td>\n",
       "      <td>0.398000</td>\n",
       "      <td>0.635953</td>\n",
       "      <td>0.000000</td>\n",
       "      <td>0.000000</td>\n",
       "      <td>0.000000</td>\n",
       "      <td>1.000000</td>\n",
       "      <td>6.000000</td>\n",
       "    </tr>\n",
       "    <tr>\n",
       "      <th>Tenure</th>\n",
       "      <td>10000.0</td>\n",
       "      <td>34.526188</td>\n",
       "      <td>26.443063</td>\n",
       "      <td>1.000259</td>\n",
       "      <td>7.917694</td>\n",
       "      <td>35.430507</td>\n",
       "      <td>61.479795</td>\n",
       "      <td>71.999280</td>\n",
       "    </tr>\n",
       "    <tr>\n",
       "      <th>MonthlyCharge</th>\n",
       "      <td>10000.0</td>\n",
       "      <td>172.624816</td>\n",
       "      <td>42.943094</td>\n",
       "      <td>79.978860</td>\n",
       "      <td>139.979239</td>\n",
       "      <td>167.484700</td>\n",
       "      <td>200.734725</td>\n",
       "      <td>290.160419</td>\n",
       "    </tr>\n",
       "    <tr>\n",
       "      <th>Bandwidth_GB_Year</th>\n",
       "      <td>10000.0</td>\n",
       "      <td>3392.341550</td>\n",
       "      <td>2185.294852</td>\n",
       "      <td>155.506715</td>\n",
       "      <td>1236.470827</td>\n",
       "      <td>3279.536903</td>\n",
       "      <td>5586.141369</td>\n",
       "      <td>7158.981530</td>\n",
       "    </tr>\n",
       "    <tr>\n",
       "      <th>Item1</th>\n",
       "      <td>10000.0</td>\n",
       "      <td>3.490800</td>\n",
       "      <td>1.037797</td>\n",
       "      <td>1.000000</td>\n",
       "      <td>3.000000</td>\n",
       "      <td>3.000000</td>\n",
       "      <td>4.000000</td>\n",
       "      <td>7.000000</td>\n",
       "    </tr>\n",
       "    <tr>\n",
       "      <th>Item2</th>\n",
       "      <td>10000.0</td>\n",
       "      <td>3.505100</td>\n",
       "      <td>1.034641</td>\n",
       "      <td>1.000000</td>\n",
       "      <td>3.000000</td>\n",
       "      <td>4.000000</td>\n",
       "      <td>4.000000</td>\n",
       "      <td>7.000000</td>\n",
       "    </tr>\n",
       "    <tr>\n",
       "      <th>Item3</th>\n",
       "      <td>10000.0</td>\n",
       "      <td>3.487000</td>\n",
       "      <td>1.027977</td>\n",
       "      <td>1.000000</td>\n",
       "      <td>3.000000</td>\n",
       "      <td>3.000000</td>\n",
       "      <td>4.000000</td>\n",
       "      <td>8.000000</td>\n",
       "    </tr>\n",
       "    <tr>\n",
       "      <th>Item4</th>\n",
       "      <td>10000.0</td>\n",
       "      <td>3.497500</td>\n",
       "      <td>1.025816</td>\n",
       "      <td>1.000000</td>\n",
       "      <td>3.000000</td>\n",
       "      <td>3.000000</td>\n",
       "      <td>4.000000</td>\n",
       "      <td>7.000000</td>\n",
       "    </tr>\n",
       "    <tr>\n",
       "      <th>Item5</th>\n",
       "      <td>10000.0</td>\n",
       "      <td>3.492900</td>\n",
       "      <td>1.024819</td>\n",
       "      <td>1.000000</td>\n",
       "      <td>3.000000</td>\n",
       "      <td>3.000000</td>\n",
       "      <td>4.000000</td>\n",
       "      <td>7.000000</td>\n",
       "    </tr>\n",
       "    <tr>\n",
       "      <th>Item6</th>\n",
       "      <td>10000.0</td>\n",
       "      <td>3.497300</td>\n",
       "      <td>1.033586</td>\n",
       "      <td>1.000000</td>\n",
       "      <td>3.000000</td>\n",
       "      <td>3.000000</td>\n",
       "      <td>4.000000</td>\n",
       "      <td>8.000000</td>\n",
       "    </tr>\n",
       "    <tr>\n",
       "      <th>Item7</th>\n",
       "      <td>10000.0</td>\n",
       "      <td>3.509500</td>\n",
       "      <td>1.028502</td>\n",
       "      <td>1.000000</td>\n",
       "      <td>3.000000</td>\n",
       "      <td>4.000000</td>\n",
       "      <td>4.000000</td>\n",
       "      <td>7.000000</td>\n",
       "    </tr>\n",
       "    <tr>\n",
       "      <th>Item8</th>\n",
       "      <td>10000.0</td>\n",
       "      <td>3.495600</td>\n",
       "      <td>1.028633</td>\n",
       "      <td>1.000000</td>\n",
       "      <td>3.000000</td>\n",
       "      <td>3.000000</td>\n",
       "      <td>4.000000</td>\n",
       "      <td>8.000000</td>\n",
       "    </tr>\n",
       "  </tbody>\n",
       "</table>\n",
       "</div>"
      ],
      "text/plain": [
       "                        count          mean           std         min  \\\n",
       "CaseOrder             10000.0   5000.500000   2886.895680    1.000000   \n",
       "Zip                   10000.0  49153.319600  27532.196108  601.000000   \n",
       "Lat                   10000.0     38.757567      5.437389   17.966120   \n",
       "Lng                   10000.0    -90.782536     15.156142 -171.688150   \n",
       "Population            10000.0   9756.562400  14432.698671    0.000000   \n",
       "Children              10000.0      2.087700      2.147200    0.000000   \n",
       "Age                   10000.0     53.078400     20.698882   18.000000   \n",
       "Income                10000.0  39806.926771  28199.916702  348.670000   \n",
       "Outage_sec_perweek    10000.0     10.001848      2.976019    0.099747   \n",
       "Email                 10000.0     12.016000      3.025898    1.000000   \n",
       "Contacts              10000.0      0.994200      0.988466    0.000000   \n",
       "Yearly_equip_failure  10000.0      0.398000      0.635953    0.000000   \n",
       "Tenure                10000.0     34.526188     26.443063    1.000259   \n",
       "MonthlyCharge         10000.0    172.624816     42.943094   79.978860   \n",
       "Bandwidth_GB_Year     10000.0   3392.341550   2185.294852  155.506715   \n",
       "Item1                 10000.0      3.490800      1.037797    1.000000   \n",
       "Item2                 10000.0      3.505100      1.034641    1.000000   \n",
       "Item3                 10000.0      3.487000      1.027977    1.000000   \n",
       "Item4                 10000.0      3.497500      1.025816    1.000000   \n",
       "Item5                 10000.0      3.492900      1.024819    1.000000   \n",
       "Item6                 10000.0      3.497300      1.033586    1.000000   \n",
       "Item7                 10000.0      3.509500      1.028502    1.000000   \n",
       "Item8                 10000.0      3.495600      1.028633    1.000000   \n",
       "\n",
       "                               25%           50%           75%            max  \n",
       "CaseOrder              2500.750000   5000.500000   7500.250000   10000.000000  \n",
       "Zip                   26292.500000  48869.500000  71866.500000   99929.000000  \n",
       "Lat                      35.341828     39.395800     42.106908      70.640660  \n",
       "Lng                     -97.082813    -87.918800    -80.088745     -65.667850  \n",
       "Population              738.000000   2910.500000  13168.000000  111850.000000  \n",
       "Children                  0.000000      1.000000      3.000000      10.000000  \n",
       "Age                      35.000000     53.000000     71.000000      89.000000  \n",
       "Income                19224.717500  33170.605000  53246.170000  258900.700000  \n",
       "Outage_sec_perweek        8.018214     10.018560     11.969485      21.207230  \n",
       "Email                    10.000000     12.000000     14.000000      23.000000  \n",
       "Contacts                  0.000000      1.000000      2.000000       7.000000  \n",
       "Yearly_equip_failure      0.000000      0.000000      1.000000       6.000000  \n",
       "Tenure                    7.917694     35.430507     61.479795      71.999280  \n",
       "MonthlyCharge           139.979239    167.484700    200.734725     290.160419  \n",
       "Bandwidth_GB_Year      1236.470827   3279.536903   5586.141369    7158.981530  \n",
       "Item1                     3.000000      3.000000      4.000000       7.000000  \n",
       "Item2                     3.000000      4.000000      4.000000       7.000000  \n",
       "Item3                     3.000000      3.000000      4.000000       8.000000  \n",
       "Item4                     3.000000      3.000000      4.000000       7.000000  \n",
       "Item5                     3.000000      3.000000      4.000000       7.000000  \n",
       "Item6                     3.000000      3.000000      4.000000       8.000000  \n",
       "Item7                     3.000000      4.000000      4.000000       7.000000  \n",
       "Item8                     3.000000      3.000000      4.000000       8.000000  "
      ]
     },
     "execution_count": 5,
     "metadata": {},
     "output_type": "execute_result"
    }
   ],
   "source": [
    "df_raw.describe().T"
   ]
  },
  {
   "cell_type": "code",
   "execution_count": 6,
   "metadata": {},
   "outputs": [
    {
     "data": {
      "text/html": [
       "<div>\n",
       "<style scoped>\n",
       "    .dataframe tbody tr th:only-of-type {\n",
       "        vertical-align: middle;\n",
       "    }\n",
       "\n",
       "    .dataframe tbody tr th {\n",
       "        vertical-align: top;\n",
       "    }\n",
       "\n",
       "    .dataframe thead th {\n",
       "        text-align: right;\n",
       "    }\n",
       "</style>\n",
       "<table border=\"1\" class=\"dataframe\">\n",
       "  <thead>\n",
       "    <tr style=\"text-align: right;\">\n",
       "      <th></th>\n",
       "      <th>count</th>\n",
       "      <th>unique</th>\n",
       "      <th>top</th>\n",
       "      <th>freq</th>\n",
       "    </tr>\n",
       "  </thead>\n",
       "  <tbody>\n",
       "    <tr>\n",
       "      <th>Customer_id</th>\n",
       "      <td>10000</td>\n",
       "      <td>10000</td>\n",
       "      <td>A378200</td>\n",
       "      <td>1</td>\n",
       "    </tr>\n",
       "    <tr>\n",
       "      <th>Interaction</th>\n",
       "      <td>10000</td>\n",
       "      <td>10000</td>\n",
       "      <td>af3767d7-4cca-4261-af13-c28d0339ead7</td>\n",
       "      <td>1</td>\n",
       "    </tr>\n",
       "    <tr>\n",
       "      <th>UID</th>\n",
       "      <td>10000</td>\n",
       "      <td>10000</td>\n",
       "      <td>c6045bdb5c9d4564f3c5ebbcfd38fe41</td>\n",
       "      <td>1</td>\n",
       "    </tr>\n",
       "    <tr>\n",
       "      <th>City</th>\n",
       "      <td>10000</td>\n",
       "      <td>6058</td>\n",
       "      <td>Houston</td>\n",
       "      <td>34</td>\n",
       "    </tr>\n",
       "    <tr>\n",
       "      <th>State</th>\n",
       "      <td>10000</td>\n",
       "      <td>52</td>\n",
       "      <td>TX</td>\n",
       "      <td>603</td>\n",
       "    </tr>\n",
       "    <tr>\n",
       "      <th>County</th>\n",
       "      <td>10000</td>\n",
       "      <td>1620</td>\n",
       "      <td>Washington</td>\n",
       "      <td>111</td>\n",
       "    </tr>\n",
       "    <tr>\n",
       "      <th>Area</th>\n",
       "      <td>10000</td>\n",
       "      <td>3</td>\n",
       "      <td>Suburban</td>\n",
       "      <td>3346</td>\n",
       "    </tr>\n",
       "    <tr>\n",
       "      <th>TimeZone</th>\n",
       "      <td>10000</td>\n",
       "      <td>25</td>\n",
       "      <td>America/New_York</td>\n",
       "      <td>4072</td>\n",
       "    </tr>\n",
       "    <tr>\n",
       "      <th>Job</th>\n",
       "      <td>10000</td>\n",
       "      <td>639</td>\n",
       "      <td>Occupational psychologist</td>\n",
       "      <td>30</td>\n",
       "    </tr>\n",
       "    <tr>\n",
       "      <th>Marital</th>\n",
       "      <td>10000</td>\n",
       "      <td>5</td>\n",
       "      <td>Divorced</td>\n",
       "      <td>2092</td>\n",
       "    </tr>\n",
       "    <tr>\n",
       "      <th>Gender</th>\n",
       "      <td>10000</td>\n",
       "      <td>3</td>\n",
       "      <td>Female</td>\n",
       "      <td>5025</td>\n",
       "    </tr>\n",
       "    <tr>\n",
       "      <th>Churn</th>\n",
       "      <td>10000</td>\n",
       "      <td>2</td>\n",
       "      <td>No</td>\n",
       "      <td>7350</td>\n",
       "    </tr>\n",
       "    <tr>\n",
       "      <th>Techie</th>\n",
       "      <td>10000</td>\n",
       "      <td>2</td>\n",
       "      <td>No</td>\n",
       "      <td>8321</td>\n",
       "    </tr>\n",
       "    <tr>\n",
       "      <th>Contract</th>\n",
       "      <td>10000</td>\n",
       "      <td>3</td>\n",
       "      <td>Month-to-month</td>\n",
       "      <td>5456</td>\n",
       "    </tr>\n",
       "    <tr>\n",
       "      <th>Port_modem</th>\n",
       "      <td>10000</td>\n",
       "      <td>2</td>\n",
       "      <td>No</td>\n",
       "      <td>5166</td>\n",
       "    </tr>\n",
       "    <tr>\n",
       "      <th>Tablet</th>\n",
       "      <td>10000</td>\n",
       "      <td>2</td>\n",
       "      <td>No</td>\n",
       "      <td>7009</td>\n",
       "    </tr>\n",
       "    <tr>\n",
       "      <th>InternetService</th>\n",
       "      <td>10000</td>\n",
       "      <td>3</td>\n",
       "      <td>Fiber Optic</td>\n",
       "      <td>4408</td>\n",
       "    </tr>\n",
       "    <tr>\n",
       "      <th>Phone</th>\n",
       "      <td>10000</td>\n",
       "      <td>2</td>\n",
       "      <td>Yes</td>\n",
       "      <td>9067</td>\n",
       "    </tr>\n",
       "    <tr>\n",
       "      <th>Multiple</th>\n",
       "      <td>10000</td>\n",
       "      <td>2</td>\n",
       "      <td>No</td>\n",
       "      <td>5392</td>\n",
       "    </tr>\n",
       "    <tr>\n",
       "      <th>OnlineSecurity</th>\n",
       "      <td>10000</td>\n",
       "      <td>2</td>\n",
       "      <td>No</td>\n",
       "      <td>6424</td>\n",
       "    </tr>\n",
       "    <tr>\n",
       "      <th>OnlineBackup</th>\n",
       "      <td>10000</td>\n",
       "      <td>2</td>\n",
       "      <td>No</td>\n",
       "      <td>5494</td>\n",
       "    </tr>\n",
       "    <tr>\n",
       "      <th>DeviceProtection</th>\n",
       "      <td>10000</td>\n",
       "      <td>2</td>\n",
       "      <td>No</td>\n",
       "      <td>5614</td>\n",
       "    </tr>\n",
       "    <tr>\n",
       "      <th>TechSupport</th>\n",
       "      <td>10000</td>\n",
       "      <td>2</td>\n",
       "      <td>No</td>\n",
       "      <td>6250</td>\n",
       "    </tr>\n",
       "    <tr>\n",
       "      <th>StreamingTV</th>\n",
       "      <td>10000</td>\n",
       "      <td>2</td>\n",
       "      <td>No</td>\n",
       "      <td>5071</td>\n",
       "    </tr>\n",
       "    <tr>\n",
       "      <th>StreamingMovies</th>\n",
       "      <td>10000</td>\n",
       "      <td>2</td>\n",
       "      <td>No</td>\n",
       "      <td>5110</td>\n",
       "    </tr>\n",
       "    <tr>\n",
       "      <th>PaperlessBilling</th>\n",
       "      <td>10000</td>\n",
       "      <td>2</td>\n",
       "      <td>Yes</td>\n",
       "      <td>5882</td>\n",
       "    </tr>\n",
       "    <tr>\n",
       "      <th>PaymentMethod</th>\n",
       "      <td>10000</td>\n",
       "      <td>4</td>\n",
       "      <td>Electronic Check</td>\n",
       "      <td>3398</td>\n",
       "    </tr>\n",
       "  </tbody>\n",
       "</table>\n",
       "</div>"
      ],
      "text/plain": [
       "                  count unique                                   top  freq\n",
       "Customer_id       10000  10000                               A378200     1\n",
       "Interaction       10000  10000  af3767d7-4cca-4261-af13-c28d0339ead7     1\n",
       "UID               10000  10000      c6045bdb5c9d4564f3c5ebbcfd38fe41     1\n",
       "City              10000   6058                               Houston    34\n",
       "State             10000     52                                    TX   603\n",
       "County            10000   1620                            Washington   111\n",
       "Area              10000      3                              Suburban  3346\n",
       "TimeZone          10000     25                      America/New_York  4072\n",
       "Job               10000    639             Occupational psychologist    30\n",
       "Marital           10000      5                              Divorced  2092\n",
       "Gender            10000      3                                Female  5025\n",
       "Churn             10000      2                                    No  7350\n",
       "Techie            10000      2                                    No  8321\n",
       "Contract          10000      3                        Month-to-month  5456\n",
       "Port_modem        10000      2                                    No  5166\n",
       "Tablet            10000      2                                    No  7009\n",
       "InternetService   10000      3                           Fiber Optic  4408\n",
       "Phone             10000      2                                   Yes  9067\n",
       "Multiple          10000      2                                    No  5392\n",
       "OnlineSecurity    10000      2                                    No  6424\n",
       "OnlineBackup      10000      2                                    No  5494\n",
       "DeviceProtection  10000      2                                    No  5614\n",
       "TechSupport       10000      2                                    No  6250\n",
       "StreamingTV       10000      2                                    No  5071\n",
       "StreamingMovies   10000      2                                    No  5110\n",
       "PaperlessBilling  10000      2                                   Yes  5882\n",
       "PaymentMethod     10000      4                      Electronic Check  3398"
      ]
     },
     "execution_count": 6,
     "metadata": {},
     "output_type": "execute_result"
    }
   ],
   "source": [
    "df_raw.describe(include='object',exclude='number').T"
   ]
  },
  {
   "cell_type": "code",
   "execution_count": 7,
   "metadata": {},
   "outputs": [],
   "source": [
    "'''\n",
    "Variables Correlation:\n",
    "*Function plot_corr_ellipses() imported and modified From text Book \n",
    "\"Practical Statistics for Data Scientists: 50+ Essential Concepts Using R and Python\",(Bruce et al.,2020) \n",
    "- The associated GitHub code repository\n",
    "https://github.com/gedeck/practical-statistics-for-data-scientists/blob/master/python/notebooks/Chapter%201%20-%20Exploratory%20Data%20Analysis.ipynb\n",
    "From text Book \"Practical Statistics for Data Scientists: 50+ Essential Concepts Using R and Python\"\n",
    "The associated GitHub code repository \n",
    "'''\n",
    "\n",
    "from matplotlib.collections import EllipseCollection\n",
    "from matplotlib.colors import Normalize\n",
    "\n",
    "def plot_corr_ellipses(data, figsize=None, **kwargs):\n",
    "    ''' https://stackoverflow.com/a/34558488 '''\n",
    "    M = np.array(data)\n",
    "    if not M.ndim == 2:\n",
    "        raise ValueError('data must be a 2D array')\n",
    "    fig, ax = plt.subplots(1, 1, figsize=figsize, subplot_kw={'aspect':'equal'})\n",
    "    ax.set_xlim(-0.5, M.shape[1] - 0.5)\n",
    "    ax.set_ylim(-0.5, M.shape[0] - 0.5)\n",
    "    ax.invert_yaxis()\n",
    "\n",
    "    # xy locations of each ellipse center\n",
    "    xy = np.indices(M.shape)[::-1].reshape(2, -1).T\n",
    "\n",
    "    # set the relative sizes of the major/minor axes according to the strength of\n",
    "    # the positive/negative correlation\n",
    "    w = np.ones_like(M).ravel() + 0.01\n",
    "    h = 1 - np.abs(M).ravel() - 0.01\n",
    "    a = 45 * np.sign(M).ravel()\n",
    "\n",
    "    ec = EllipseCollection(widths=w, heights=h, angles=a, units='x', offsets=xy,\n",
    "                           norm=Normalize(vmin=-1, vmax=1),\n",
    "                           transOffset=ax.transData, array=M.ravel(), **kwargs)\n",
    "    ax.add_collection(ec)\n",
    "\n",
    "    # if data is a DataFrame, use the row/column names as tick labels\n",
    "    if isinstance(data, pd.DataFrame):\n",
    "        ax.set_xticks(np.arange(M.shape[1]))\n",
    "        ax.set_xticklabels(data.columns, rotation=90)\n",
    "        ax.tick_params(axis=\"x\", bottom=True, top=True, labelbottom=True, labeltop=True)\n",
    "        ax.set_yticks(np.arange(M.shape[0]))\n",
    "        ax.set_yticklabels(data.index)\n",
    "        ax.grid (True, color = \"grey\", linewidth = \"0.5\", linestyle = \"-\")\n",
    "    return ec"
   ]
  },
  {
   "cell_type": "code",
   "execution_count": 8,
   "metadata": {},
   "outputs": [],
   "source": [
    "'''\n",
    "Custom function to convert categorical variables into numeric form.\n",
    "this function takes 1 parameters, input DataFrame and creates a dectionary for each categorical variable\n",
    "where dictinary keys are the categogries sorted alphabetically and the values are serial numeric values\n",
    "the maximum number of categories this function can handle is 7000\n",
    "'''\n",
    "def cat2num(df_1):\n",
    "    numerics = ['uint8','int16', 'int32', 'int64', 'float16', 'float32', 'float64']\n",
    "    df_num_conv=df_1.copy()\n",
    "    for n, col in enumerate(df_num_conv.columns):\n",
    "        if (df_num_conv[col].dtype in numerics) or (len(df_num_conv[col].value_counts())>7000):\n",
    "            continue\n",
    "        else:\n",
    "            cat_dict={y:x for x,y in enumerate(dict(df_raw[col].value_counts().sort_index(ascending=True)))}\n",
    "            df_num_conv[col]=df_num_conv[col].replace(cat_dict)\n",
    "    return df_num_conv"
   ]
  },
  {
   "cell_type": "code",
   "execution_count": 9,
   "metadata": {},
   "outputs": [],
   "source": [
    "# To be able to correlate with the categorical variables\n",
    "df_num=cat2num(df_raw)"
   ]
  },
  {
   "cell_type": "code",
   "execution_count": 10,
   "metadata": {},
   "outputs": [
    {
     "data": {
      "image/png": "[encoded data removed]",
      "text/plain": [
       "<Figure size 864x864 with 2 Axes>"
      ]
     },
     "metadata": {
      "needs_background": "light"
     },
     "output_type": "display_data"
    }
   ],
   "source": [
    "ax= plot_corr_ellipses(df_num.corr(), figsize=(12, 12), cmap='bwr_r')\n",
    "plt.colorbar(ax)\n",
    "plt.tight_layout()\n",
    "plt.show()"
   ]
  },
  {
   "cell_type": "markdown",
   "metadata": {},
   "source": [
    "#### Part I: Research Question"
   ]
  },
  {
   "cell_type": "markdown",
   "metadata": {},
   "source": [
    "##### A.  Describe the purpose of this data mining report by doing the following:\n",
    "\n",
    "##### 1.  Propose one question relevant to a real-world organizational situation that you will answer using one of the following clustering techniques:\n",
    "##### •  k-means\n",
    "##### •  hierarchical"
   ]
  },
  {
   "cell_type": "markdown",
   "metadata": {},
   "source": [
    "“Given that it costs 10 times more to acquire a new customer than to retain an existing one, customer retention has now become even more important than customer acquisition. For many providers, retaining highly profitable customers is the number one business goal. To reduce customer churn, telecommunications companies need to predict which customers are at high risk of churn.” (WGU-D212, 2021)\n",
    "\n",
    "The company is interested in classifying customers (clustering) into groups (clusters) that may represent or highlight the churn probability.\n",
    "\n",
    "Clustering analysis would give the company and the stakeholders a good idea about which groups of customers are more likely to churn.\n",
    "\n",
    "The question to be asked is about recognizing which groups of customers have a high or low probability for Churn, in other words, can customers be segmented into groups that can predict customers’ Churn?\n",
    "\n",
    "k-means clustering method will be used for customer segmentation that might be correlated to the customers’ churn probability."
   ]
  },
  {
   "cell_type": "markdown",
   "metadata": {},
   "source": [
    "##### 2.  Define one goal of the data analysis. Ensure that your goal is reasonable within the scope of the scenario and is represented in the available data.\n",
    " "
   ]
  },
  {
   "cell_type": "markdown",
   "metadata": {},
   "source": [
    "The objective of the data analysis is to classify customers based on the available features or criteria into groups that can be used to predict the customer churn probability."
   ]
  },
  {
   "cell_type": "markdown",
   "metadata": {},
   "source": [
    "------------------------------------------------------------------------------------"
   ]
  },
  {
   "cell_type": "markdown",
   "metadata": {},
   "source": [
    "#### Part II: Technique Justification"
   ]
  },
  {
   "cell_type": "markdown",
   "metadata": {},
   "source": [
    "##### B.  Explain the reasons for your chosen clustering technique from part A1 by doing the following:\n",
    "\n",
    "##### 1.  Explain how the clustering technique you chose analyzes the selected dataset. Include expected outcomes."
   ]
  },
  {
   "cell_type": "markdown",
   "metadata": {},
   "source": [
    "K-Means is a centroid-based clustering, grouping a set of data observations in groups that are more similar to each other than to observations in other clusters. The similarity is a metric that reflects the strength of the relationship between two data observations.\n",
    "K-Means uses an iterative algorithm in which the notion of similarity is derived by how close a data point is to the centroid of the cluster.\n",
    "\n",
    "The algorithm works by (Paul, 2018):\n",
    "\n",
    "1. Taking randomly a number of centroids or data points equal to a predefined number of expected clusters in its account initially, each centroid represents an initial estimation of the center of a specific cluster.\n",
    "\n",
    "2. The data points (coordinates) are assigned to any of the Clusters depending upon the distance between them and the centroids (distances represent dissimilarity).\n",
    "\n",
    "3. Each cluster will be used to determine a refined centroid of the cluster, and the distances will be recalculated and each point will be reassigned to a specific cluster accordingly.\n",
    "\n",
    "4. This process will be repeated several times (iteratively) updating cluster centroids until they cannot be updated anymore ( when there is no improvement in the measured distances or errors).\n",
    "\n",
    "5. K-Means can use these centroids as a model that can be applied to some data the algorithm has not seen before for prediction."
   ]
  },
  {
   "cell_type": "markdown",
   "metadata": {},
   "source": [
    "##### 2.  Summarize one assumption of the clustering technique."
   ]
  },
  {
   "cell_type": "markdown",
   "metadata": {},
   "source": [
    "K-Means Clustering assumes that clusters are spatially grouped or spherical (Tait,2017).\n",
    "\n",
    "Because it depends on minimizing the distances between the centroid of the cluster and the cluster members.\n",
    "\n",
    "Spherical assumption helps in separating the clusters when the algorithm works on the data and forms clusters, this means that it’s difficult for the algorithm (initially) to classify complex clusters that may not depend on simple distance measurements."
   ]
  },
  {
   "cell_type": "markdown",
   "metadata": {},
   "source": [
    "##### 3.  List the packages or libraries you have chosen for Python or R, and justify how each item on the list supports the analysis."
   ]
  },
  {
   "cell_type": "markdown",
   "metadata": {},
   "source": [
    "Selected Python, the general-purpose, interpreted, object-oriented language, which supports many useful packages for creating linear models Selected Python libraries such as:\n",
    "\n",
    "* Pandas : For data manipulation and analysis.\n",
    "* numpy : The core of every analytical solution in the Python language. It provides the user with multidimensional arrays, along with a large set of functions to operate multiple mathematical operations on these arrays.\n",
    "* Matplotlib: for visualization\n",
    "* Scikit-learn: Offers the functions for data preprocessing, supervised and unsupervised learning, model selection, validation, and error metrics.\n",
    "\n",
    "from Scikit-learn library a set of functions have been imported and used such as:\n",
    "\n",
    "* cluster.KMeans : the class of KMeans clustering.\n",
    "* preprocessing.StandardScaler : for features standardiziation"
   ]
  },
  {
   "cell_type": "markdown",
   "metadata": {},
   "source": [
    "----------------------------------------------------------------------------"
   ]
  },
  {
   "cell_type": "markdown",
   "metadata": {},
   "source": [
    " \n",
    "\n",
    "#### Part III: Data Preparation"
   ]
  },
  {
   "cell_type": "markdown",
   "metadata": {},
   "source": [
    "##### C.  Perform data preparation for the chosen dataset by doing the following\n",
    "\n",
    "##### 1.  Describe one data preprocessing goal relevant to the clustering technique from part A1."
   ]
  },
  {
   "cell_type": "markdown",
   "metadata": {},
   "source": [
    "Given that the data provided is clean, with no missing data, the K-means algorism needed some data preparations such as:\n",
    "\n",
    "* Selecting and using only the relevant features (the significant variables).\n",
    "* Getting the categorical features as dummy variables for utilizing the categorical variables, to use only the most relevant components out of them.\n",
    "* K-means is very sensitive to features homogeneity: while building a k-means clustering model using a common distance, like Euclidean or Manhattan distances, it is completely necessary that features have the same scale since absolute differences in features weigh the same."
   ]
  },
  {
   "cell_type": "markdown",
   "metadata": {},
   "source": [
    "##### 2.  Identify the initial dataset variables that you will use to perform the analysis for the clustering question from part A1, and label each as continuous or categorical."
   ]
  },
  {
   "cell_type": "markdown",
   "metadata": {},
   "source": [
    "* Dropping the irrelevant features (the insignificant variables).\n",
    "Features related to customer ID , or cutomer location in addition to Job column:\n",
    "\n",
    "['CaseOrder','Customer_id','UID','Interaction','City','State','County','Zip','Lng','Lat','Population','Area','TimeZone','Job']\n",
    "\n",
    "\n",
    "* The clustering model will be built using the moset relevant features , after pre-processing\n",
    "\n",
    "['Tenure','Bandwidth_GB_Year','Contract_One year', 'Contract_Two Year', 'StreamingMovies_Yes']"
   ]
  },
  {
   "cell_type": "markdown",
   "metadata": {},
   "source": [
    "##### 3.  Explain each of the steps used to prepare the data for the analysis. Identify the code segment for each step."
   ]
  },
  {
   "cell_type": "markdown",
   "metadata": {},
   "source": [
    "1- Dropping the irrelevant features."
   ]
  },
  {
   "cell_type": "code",
   "execution_count": 11,
   "metadata": {},
   "outputs": [],
   "source": [
    "#Dropping irrelevant columns\n",
    "df_ed=df_raw.copy()\n",
    "drop_cols = ['CaseOrder','Customer_id','UID','Interaction','City','State','County','Zip','Lng','Lat','Population','Area','TimeZone','Job' ] #,\n",
    "df_ed.drop(columns=drop_cols,inplace=True)"
   ]
  },
  {
   "cell_type": "code",
   "execution_count": 12,
   "metadata": {},
   "outputs": [],
   "source": [
    "X=df_ed.copy()\n",
    "X=X.drop([target],axis=1) #dropping te target column from the predictors data set\n",
    "y=df_ed[target] # assigning the target to vector y"
   ]
  },
  {
   "cell_type": "markdown",
   "metadata": {},
   "source": [
    "2- Getting the categorical features as dummy variables for utilizing the categorical variables,to use only the most relevant component out of them."
   ]
  },
  {
   "cell_type": "code",
   "execution_count": 13,
   "metadata": {},
   "outputs": [],
   "source": [
    "# Adding dummy variables\n",
    "dummy_cols = [dummy for dummy in categ_variables if dummy in X.columns]\n",
    "X=pd.get_dummies(X,drop_first=True,columns=dummy_cols)"
   ]
  },
  {
   "cell_type": "markdown",
   "metadata": {},
   "source": [
    "3- Selecting only the relevant features (the significant variables)"
   ]
  },
  {
   "cell_type": "code",
   "execution_count": 14,
   "metadata": {},
   "outputs": [],
   "source": [
    "X=X.loc[:,['Tenure','Bandwidth_GB_Year','Contract_One year', 'Contract_Two Year', 'StreamingMovies_Yes']]"
   ]
  },
  {
   "cell_type": "markdown",
   "metadata": {},
   "source": [
    "4- Features standardiziation"
   ]
  },
  {
   "cell_type": "code",
   "execution_count": 15,
   "metadata": {},
   "outputs": [],
   "source": [
    "scaler = StandardScaler()\n",
    "scaler.fit(X)\n",
    "X_Standard = scaler.transform(X)\n",
    "X_Standard=pd.DataFrame(X_Standard, columns=X.columns)"
   ]
  },
  {
   "cell_type": "markdown",
   "metadata": {},
   "source": [
    "##### 4.  Provide a copy of the cleaned dataset."
   ]
  },
  {
   "cell_type": "code",
   "execution_count": 16,
   "metadata": {},
   "outputs": [],
   "source": [
    "# Saving a copy of the prepared data set.\n",
    "D212_t1_input=X_Standard.copy()\n",
    "D212_t1_input.to_csv('D212_t1_clustering_input.csv', index = True)"
   ]
  },
  {
   "cell_type": "markdown",
   "metadata": {},
   "source": [
    "------------------------------------------------------------------------------------------------"
   ]
  },
  {
   "cell_type": "markdown",
   "metadata": {},
   "source": [
    " \n",
    "\n",
    "#### Part IV: Analysis"
   ]
  },
  {
   "cell_type": "markdown",
   "metadata": {},
   "source": [
    "##### D.  Perform the data analysis and report on the results by doing the following:\n",
    "\n",
    "##### 1.  Describe the analysis technique you used to appropriately analyze the data. Include screenshots of the intermediate calculations you performed."
   ]
  },
  {
   "cell_type": "markdown",
   "metadata": {},
   "source": [
    "Steps of K-means clustering:\n",
    "\n",
    "1- preparing the input data by Dropping the irrelevant features (the insignificant variables).\n",
    "and Getting the categorical features as dummy variables for utilizing the categorical variables, to use only the most relevant component out of them.\n",
    "\n",
    "2- Input data features standardization.\n",
    "\n",
    "3- Splitting the input data into a training set (70%) and a testing set(30%)\n",
    "\n",
    "4- Optimizing the algorithm hyperparameter (n_clusters) using the elbow method.\n",
    "\n",
    "5- Fitting the model using the training data set using the optimum number of clusters from step 4.\n",
    "\n",
    "6- (Optional) Testing the efficiency of the cluster in identifying the target values of the testing data set.\n"
   ]
  },
  {
   "cell_type": "markdown",
   "metadata": {},
   "source": [
    "##### 2.  Provide the code used to perform the clustering analysis technique from part 2.\n",
    " "
   ]
  },
  {
   "cell_type": "markdown",
   "metadata": {},
   "source": [
    "3- Splitting the input data into a training set (70%) and a testing set(30%)"
   ]
  },
  {
   "cell_type": "code",
   "execution_count": 17,
   "metadata": {},
   "outputs": [],
   "source": [
    "# Splitting the data into train and test portions\n",
    "X_train, X_test, y_train, y_test = sklearn.model_selection.train_test_split(X_Standard, y, test_size = 0.30)"
   ]
  },
  {
   "cell_type": "markdown",
   "metadata": {},
   "source": [
    "4- Optimizing the algorithm hyperparameter (n_clusters) using the elbow method.\n",
    "\n",
    "The optimum number of clusters is at the elbow point (the sharp corner) , lowest number of clusters that is close to minimum sum of error for all clusters."
   ]
  },
  {
   "cell_type": "code",
   "execution_count": 18,
   "metadata": {},
   "outputs": [
    {
     "data": {
      "image/png": "[encoded data removed]",
      "text/plain": [
       "<Figure size 432x288 with 1 Axes>"
      ]
     },
     "metadata": {
      "needs_background": "light"
     },
     "output_type": "display_data"
    },
    {
     "name": "stdout",
     "output_type": "stream",
     "text": [
      "Wall time: 34.5 s\n"
     ]
    }
   ],
   "source": [
    "%%time\n",
    "\n",
    "Error =[]\n",
    "max_clusters = 31\n",
    "for i in range(1, max_clusters):\n",
    "    kmeans = KMeans(n_clusters = i,random_state=1).fit(X_train)\n",
    "    Error.append(kmeans.inertia_)\n",
    "plt.plot(range(1, max_clusters), Error,'-o')\n",
    "plt.xticks(np.arange(0,max_clusters,step=1))\n",
    "plt.title('Elbow method')\n",
    "plt.xlabel('No. of clusters')\n",
    "plt.ylabel('Error')\n",
    "plt.xticks(fontsize = 7)\n",
    "plt.show()\n"
   ]
  },
  {
   "cell_type": "markdown",
   "metadata": {},
   "source": [
    "5- Fitting the model using the training data set using the optimum number of clusters from step 4."
   ]
  },
  {
   "cell_type": "code",
   "execution_count": 19,
   "metadata": {},
   "outputs": [
    {
     "data": {
      "text/plain": [
       "array([2, 1, 1, ..., 1, 0, 0])"
      ]
     },
     "execution_count": 19,
     "metadata": {},
     "output_type": "execute_result"
    }
   ],
   "source": [
    "kmeans = KMeans(n_clusters = 12,random_state=1).fit(X_train)\n",
    "kmeans.labels_"
   ]
  },
  {
   "cell_type": "markdown",
   "metadata": {},
   "source": [
    "6- (Optional) Testing the efficiency of the cluster in identifying the target values of the testing data set."
   ]
  },
  {
   "cell_type": "code",
   "execution_count": 20,
   "metadata": {},
   "outputs": [],
   "source": [
    "'''\n",
    "Custom function , takes 2 arguments :\n",
    "1- actual target that need to be tested relative to clustering\n",
    "2- K_mean clusters labels (clusters or predicted)\n",
    "The output is a count plot , shows the relatioship between the actual target and the K_mean clusters\n",
    "'''\n",
    "def clustering_countplot(ytest,ypredict):\n",
    "    plt.figure(figsize=(12,3))\n",
    "    sns.countplot(x = (ypredict),hue = np.array(ytest.iloc[:,0]),alpha=0.7)\n",
    "    plt.xlabel('Clusters')\n",
    "    plt.title('Clusters Vs Actual. '+target)\n",
    "    plt.xticks(fontsize = 7)\n",
    "    plt.show()"
   ]
  },
  {
   "cell_type": "code",
   "execution_count": 21,
   "metadata": {},
   "outputs": [],
   "source": [
    "y_test=pd.get_dummies(y_test,drop_first=True,columns=target)\n",
    "\n",
    "y_train=pd.get_dummies(y_train,drop_first=True,columns=target)\n",
    "\n",
    "y=pd.get_dummies(y,drop_first=True,columns=target)"
   ]
  },
  {
   "cell_type": "code",
   "execution_count": 22,
   "metadata": {},
   "outputs": [
    {
     "data": {
      "image/png": "[encoded data removed]",
      "text/plain": [
       "<Figure size 864x216 with 1 Axes>"
      ]
     },
     "metadata": {
      "needs_background": "light"
     },
     "output_type": "display_data"
    }
   ],
   "source": [
    "#clustering_countplot of Train data\n",
    "clustering_countplot((y_train),kmeans.labels_)"
   ]
  },
  {
   "cell_type": "code",
   "execution_count": 23,
   "metadata": {},
   "outputs": [
    {
     "data": {
      "image/png": "[encoded data removed]",
      "text/plain": [
       "<Figure size 864x216 with 1 Axes>"
      ]
     },
     "metadata": {
      "needs_background": "light"
     },
     "output_type": "display_data"
    }
   ],
   "source": [
    "#clustering_countplot of Test data\n",
    "clustering_countplot((y_test),kmeans.predict(X_test))"
   ]
  },
  {
   "cell_type": "markdown",
   "metadata": {},
   "source": [
    "---------------------------------------------------------------------------------------"
   ]
  },
  {
   "cell_type": "markdown",
   "metadata": {},
   "source": [
    "#### Part V: Data Summary and Implications"
   ]
  },
  {
   "cell_type": "markdown",
   "metadata": {},
   "source": [
    "##### E.  Summarize your data analysis by doing the following:\n",
    "\n",
    "##### 1.  Explain the accuracy of your clustering technique."
   ]
  },
  {
   "cell_type": "markdown",
   "metadata": {},
   "source": [
    "The accuracy of K-Means Clustering is difficult to be explained, like most unsupervised learning techniques, the clustering is inputs driven, and unlikely to provide an accurate prediction or specific decision, while depending on the variance of input features and maximizing the separation or segregation among these clusters according to the features combination variance regardless the meaning or the significance of this clustering.\n",
    "\n",
    "But for the purpose of this analysis, some measures had been taken to utilize the K-Means clustering technique in customers' segmentation in relationship with the customers' Churn probability.\n",
    "The  K-Means clustering technique provided a number of clusters, that can be interpreted in relationship with customers' churn probability where some clusters showed absence of any Churn case, some other clusters represented a group of customers who are very likely to churn.\n",
    "\n",
    "These results can be viewed visually in the previous count plots, and numerically using the following cross tables, which shows the relationship between each cluster and the Churn fraction of customers assigned to this specific cluster.\n"
   ]
  },
  {
   "cell_type": "code",
   "execution_count": 24,
   "metadata": {},
   "outputs": [
    {
     "data": {
      "text/html": [
       "<div>\n",
       "<style scoped>\n",
       "    .dataframe tbody tr th:only-of-type {\n",
       "        vertical-align: middle;\n",
       "    }\n",
       "\n",
       "    .dataframe tbody tr th {\n",
       "        vertical-align: top;\n",
       "    }\n",
       "\n",
       "    .dataframe thead th {\n",
       "        text-align: right;\n",
       "    }\n",
       "</style>\n",
       "<table border=\"1\" class=\"dataframe\">\n",
       "  <thead>\n",
       "    <tr style=\"text-align: right;\">\n",
       "      <th>col_0</th>\n",
       "      <th>0</th>\n",
       "      <th>1</th>\n",
       "    </tr>\n",
       "    <tr>\n",
       "      <th>row_0</th>\n",
       "      <th></th>\n",
       "      <th></th>\n",
       "    </tr>\n",
       "  </thead>\n",
       "  <tbody>\n",
       "    <tr>\n",
       "      <th>0</th>\n",
       "      <td>0.164309</td>\n",
       "      <td>0.835691</td>\n",
       "    </tr>\n",
       "    <tr>\n",
       "      <th>9</th>\n",
       "      <td>0.492997</td>\n",
       "      <td>0.507003</td>\n",
       "    </tr>\n",
       "    <tr>\n",
       "      <th>3</th>\n",
       "      <td>0.547809</td>\n",
       "      <td>0.452191</td>\n",
       "    </tr>\n",
       "    <tr>\n",
       "      <th>10</th>\n",
       "      <td>0.560914</td>\n",
       "      <td>0.439086</td>\n",
       "    </tr>\n",
       "    <tr>\n",
       "      <th>5</th>\n",
       "      <td>0.815418</td>\n",
       "      <td>0.184582</td>\n",
       "    </tr>\n",
       "    <tr>\n",
       "      <th>6</th>\n",
       "      <td>0.931298</td>\n",
       "      <td>0.068702</td>\n",
       "    </tr>\n",
       "    <tr>\n",
       "      <th>7</th>\n",
       "      <td>0.938242</td>\n",
       "      <td>0.061758</td>\n",
       "    </tr>\n",
       "    <tr>\n",
       "      <th>8</th>\n",
       "      <td>0.973366</td>\n",
       "      <td>0.026634</td>\n",
       "    </tr>\n",
       "    <tr>\n",
       "      <th>11</th>\n",
       "      <td>0.975806</td>\n",
       "      <td>0.024194</td>\n",
       "    </tr>\n",
       "    <tr>\n",
       "      <th>1</th>\n",
       "      <td>0.982528</td>\n",
       "      <td>0.017472</td>\n",
       "    </tr>\n",
       "    <tr>\n",
       "      <th>2</th>\n",
       "      <td>1.000000</td>\n",
       "      <td>0.000000</td>\n",
       "    </tr>\n",
       "    <tr>\n",
       "      <th>4</th>\n",
       "      <td>1.000000</td>\n",
       "      <td>0.000000</td>\n",
       "    </tr>\n",
       "  </tbody>\n",
       "</table>\n",
       "</div>"
      ],
      "text/plain": [
       "col_0         0         1\n",
       "row_0                    \n",
       "0      0.164309  0.835691\n",
       "9      0.492997  0.507003\n",
       "3      0.547809  0.452191\n",
       "10     0.560914  0.439086\n",
       "5      0.815418  0.184582\n",
       "6      0.931298  0.068702\n",
       "7      0.938242  0.061758\n",
       "8      0.973366  0.026634\n",
       "11     0.975806  0.024194\n",
       "1      0.982528  0.017472\n",
       "2      1.000000  0.000000\n",
       "4      1.000000  0.000000"
      ]
     },
     "execution_count": 24,
     "metadata": {},
     "output_type": "execute_result"
    }
   ],
   "source": [
    "pd.crosstab(kmeans.labels_, np.array(y_train.iloc[:,0]),normalize='index',margins=False).sort_values(by=1,ascending=False)"
   ]
  },
  {
   "cell_type": "code",
   "execution_count": 25,
   "metadata": {},
   "outputs": [
    {
     "data": {
      "text/html": [
       "<div>\n",
       "<style scoped>\n",
       "    .dataframe tbody tr th:only-of-type {\n",
       "        vertical-align: middle;\n",
       "    }\n",
       "\n",
       "    .dataframe tbody tr th {\n",
       "        vertical-align: top;\n",
       "    }\n",
       "\n",
       "    .dataframe thead th {\n",
       "        text-align: right;\n",
       "    }\n",
       "</style>\n",
       "<table border=\"1\" class=\"dataframe\">\n",
       "  <thead>\n",
       "    <tr style=\"text-align: right;\">\n",
       "      <th>col_0</th>\n",
       "      <th>0</th>\n",
       "      <th>1</th>\n",
       "    </tr>\n",
       "    <tr>\n",
       "      <th>row_0</th>\n",
       "      <th></th>\n",
       "      <th></th>\n",
       "    </tr>\n",
       "  </thead>\n",
       "  <tbody>\n",
       "    <tr>\n",
       "      <th>0</th>\n",
       "      <td>0.152993</td>\n",
       "      <td>0.847007</td>\n",
       "    </tr>\n",
       "    <tr>\n",
       "      <th>9</th>\n",
       "      <td>0.500000</td>\n",
       "      <td>0.500000</td>\n",
       "    </tr>\n",
       "    <tr>\n",
       "      <th>10</th>\n",
       "      <td>0.514124</td>\n",
       "      <td>0.485876</td>\n",
       "    </tr>\n",
       "    <tr>\n",
       "      <th>3</th>\n",
       "      <td>0.550914</td>\n",
       "      <td>0.449086</td>\n",
       "    </tr>\n",
       "    <tr>\n",
       "      <th>5</th>\n",
       "      <td>0.820707</td>\n",
       "      <td>0.179293</td>\n",
       "    </tr>\n",
       "    <tr>\n",
       "      <th>6</th>\n",
       "      <td>0.929487</td>\n",
       "      <td>0.070513</td>\n",
       "    </tr>\n",
       "    <tr>\n",
       "      <th>7</th>\n",
       "      <td>0.952128</td>\n",
       "      <td>0.047872</td>\n",
       "    </tr>\n",
       "    <tr>\n",
       "      <th>8</th>\n",
       "      <td>0.979487</td>\n",
       "      <td>0.020513</td>\n",
       "    </tr>\n",
       "    <tr>\n",
       "      <th>11</th>\n",
       "      <td>0.992806</td>\n",
       "      <td>0.007194</td>\n",
       "    </tr>\n",
       "    <tr>\n",
       "      <th>1</th>\n",
       "      <td>1.000000</td>\n",
       "      <td>0.000000</td>\n",
       "    </tr>\n",
       "    <tr>\n",
       "      <th>2</th>\n",
       "      <td>1.000000</td>\n",
       "      <td>0.000000</td>\n",
       "    </tr>\n",
       "    <tr>\n",
       "      <th>4</th>\n",
       "      <td>1.000000</td>\n",
       "      <td>0.000000</td>\n",
       "    </tr>\n",
       "  </tbody>\n",
       "</table>\n",
       "</div>"
      ],
      "text/plain": [
       "col_0         0         1\n",
       "row_0                    \n",
       "0      0.152993  0.847007\n",
       "9      0.500000  0.500000\n",
       "10     0.514124  0.485876\n",
       "3      0.550914  0.449086\n",
       "5      0.820707  0.179293\n",
       "6      0.929487  0.070513\n",
       "7      0.952128  0.047872\n",
       "8      0.979487  0.020513\n",
       "11     0.992806  0.007194\n",
       "1      1.000000  0.000000\n",
       "2      1.000000  0.000000\n",
       "4      1.000000  0.000000"
      ]
     },
     "execution_count": 25,
     "metadata": {},
     "output_type": "execute_result"
    }
   ],
   "source": [
    "pd.crosstab(kmeans.predict(X_test), np.array(y_test.iloc[:,0]),normalize='index',margins=False).sort_values(by=1,ascending=False)"
   ]
  },
  {
   "cell_type": "markdown",
   "metadata": {},
   "source": [
    "##### 2.  Discuss the results and implications of your clustering analysis."
   ]
  },
  {
   "cell_type": "markdown",
   "metadata": {},
   "source": [
    "The K-Means clustering technique provided a number of clusters, that can be interpreted in relationship with customers' churn probability where some clusters showed absence of any Churn case, some other clusters represented a group of customers who are very likely to churn.\n",
    "\n",
    "These results can be viewed visually in the previous count plots, and numerically using the previous cross tables, which shows the relationship between each cluster and the Churn fraction of customers assigned to this specific cluster."
   ]
  },
  {
   "cell_type": "markdown",
   "metadata": {},
   "source": [
    "##### 3.  Discuss one limitation of your data analysis."
   ]
  },
  {
   "cell_type": "markdown",
   "metadata": {},
   "source": [
    "The clustering wasn’t so intuitive, specifically when using a high number of dimensions (12), the segmentation classified the customers into a predetermined number of clusters according to the variance of predetermined input features, correlating the resulted clusters with the customers’ churn probability is an inaccurate interpretation.\n",
    "Overall this technique is less interpretable and more suitable for automated decision systems more than prediction or giving an intuitive insight to the stakeholders.\n"
   ]
  },
  {
   "cell_type": "markdown",
   "metadata": {},
   "source": [
    "##### 4.  Recommend a course of action for the real-world organizational situation from part A1 based on your results and implications discussed in part E2."
   ]
  },
  {
   "cell_type": "markdown",
   "metadata": {},
   "source": [
    "As the company needs to avoid customers Churn, using K-means clustering can be very beneficial for segmenting the customers in relationship with the customer’s Churn probability, by evaluating and continuously re-evaluating the variables recorded for each customer.\n",
    "\n",
    "The K-means clustering model determined several clusters (or groups of customers) that going closer to them might mean that the customer churn probability is increasing, the company may need to recheck those customers’ degree of satisfaction."
   ]
  },
  {
   "cell_type": "markdown",
   "metadata": {},
   "source": [
    "----------------------------------------------------------------------------------------"
   ]
  },
  {
   "cell_type": "markdown",
   "metadata": {},
   "source": [
    " \n",
    "\n",
    "#### Part VI: Demonstration"
   ]
  },
  {
   "cell_type": "markdown",
   "metadata": {},
   "source": [
    "##### F.  Provide a Panopto video recording that includes a demonstration of the functionality of the code used for the analysis and a summary of the programming environment.\n",
    " "
   ]
  },
  {
   "cell_type": "markdown",
   "metadata": {},
   "source": [
    "<a href=\"https://wgu.hosted.panopto.com/Panopto/Pages/Viewer.aspx?id=1a9060c5-29cd-42f9-8532-ad4c009711aa\" target=\"_blank\"> Link to the Panopto Video </a>"
   ]
  },
  {
   "cell_type": "markdown",
   "metadata": {},
   "source": [
    "https://wgu.hosted.panopto.com/Panopto/Pages/Viewer.aspx?id=1a9060c5-29cd-42f9-8532-ad4c009711aa"
   ]
  },
  {
   "cell_type": "markdown",
   "metadata": {},
   "source": [
    "##### G.  Record the web sources used to acquire data or segments of third-party code to support the analysis. Ensure the web sources are reliable.\n",
    " "
   ]
  },
  {
   "cell_type": "markdown",
   "metadata": {},
   "source": [
    "##### H.  Acknowledge sources, using in-text citations and references, for content that is quoted, paraphrased, or summarized.\n",
    " "
   ]
  },
  {
   "cell_type": "markdown",
   "metadata": {},
   "source": [
    "##### I.  Demonstrate professional communication in the content and presentation of your submission."
   ]
  },
  {
   "cell_type": "markdown",
   "metadata": {},
   "source": [
    "##### ----------------------------------------------------------------------------------------------------------------------------------------------------------------------------------------------------------"
   ]
  },
  {
   "cell_type": "markdown",
   "metadata": {},
   "source": [
    "### References:"
   ]
  },
  {
   "cell_type": "markdown",
   "metadata": {},
   "source": [
    "\n",
    "* WGU. D212 Data Mining II  (2021, June 16), Data Files and Associated Dictionary Files.\n",
    "https://access.wgu.edu/ASP3/aap/content/gkridh34kd85jf94dcj2.zip\n",
    "\n",
    "\n",
    "* Bruce, P. C., Bruce, A., & Gedeck, P. (2020). Practical statistics for data scientists: 50 essential concepts. Sebastopol, CA: O'Reilly Media, Incorporated.\n",
    "\n",
    "\n",
    "* Sayak Paul. (2018 ). K-Means Clustering in Python with scikit-learn.\n",
    "https://www.datacamp.com/community/tutorials/k-means-clustering-python?fbclid=IwAR078hAiPA4WL6Wk6xSBFtPGcauFe34kuu6yBHaNBRRmQoGi1FwE6SKQKoI\n",
    "\n",
    "\n",
    "* Andrew Tait. (2017 ). Assumptions Can Ruin Your K-Means Clusters. \n",
    "https://blog.learningtree.com/assumptions-ruin-k-means-clusters/\n",
    "\n",
    "\n",
    "* (datacamp) Data Mining II – D212 course materials and Labs\n",
    "https://learn.datacamp.com/custom-tracks/custom-data-mining-ii\n",
    "\n",
    "\n",
    "* https://www.udemy.com/course/python-for-data-science-machine-learning/\n",
    "\n",
    "\n",
    "* https://www.udemy.com/course/data-science-bootcamp-with-python/\n",
    "\n",
    "\n",
    "* Scikit-learn Crash Course - Machine Learning Library for Python https://www.youtube.com/watch?v=0B5eIE_1vpU\n",
    "\n",
    "\n",
    "* General Questions/Answers from https://stackoverflow.com/\n",
    "\n",
    "\n",
    "* Documentation of Python packages: pandas, matplotlib,numpy,sklearn and scipy\n",
    "\n",
    "\n",
    "* Feature Scaling in Machine Learning(Normalization & Standardization) | Feature Scaling Sklearn  https://www.youtube.com/watch?v=wNa_VI__j84 \n"
   ]
  }
 ],
 "metadata": {
  "kernelspec": {
   "display_name": "Python 3",
   "language": "python",
   "name": "python3"
  },
  "language_info": {
   "codemirror_mode": {
    "name": "ipython",
    "version": 3
   },
   "file_extension": ".py",
   "mimetype": "text/x-python",
   "name": "python",
   "nbconvert_exporter": "python",
   "pygments_lexer": "ipython3",
   "version": "3.8.5"
  }
 },
 "nbformat": 4,
 "nbformat_minor": 4
}
